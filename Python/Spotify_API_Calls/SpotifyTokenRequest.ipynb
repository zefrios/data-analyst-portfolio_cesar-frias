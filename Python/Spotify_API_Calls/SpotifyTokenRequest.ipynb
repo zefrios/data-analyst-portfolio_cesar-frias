{
 "cells": [
  {
   "cell_type": "markdown",
   "metadata": {},
   "source": [
    "# Shiny App: Song Suggester, part I: Spotify's API Calls.\n",
    "***\n",
    "## About the project\n",
    "\n",
    "This notebook demonstrates the process of making API calls to Spotify using Python. Initially, it gets an access token and then retrieves an artist's ID and name, which are provided directly by the app user. Following this, the notebook fetches a list of artists related to the input artist and their top tracks. Once this data is collected, a main() function is called to process and organize this information into a dataframe. This dataframe is then used in R for visualization in a Shiny app.\n"
   ]
  },
  {
   "cell_type": "markdown",
   "metadata": {},
   "source": [
    "First, we import the necessary libraries:\n"
   ]
  },
  {
   "cell_type": "code",
   "execution_count": 1,
   "metadata": {},
   "outputs": [],
   "source": [
    "import requests                      #sends request to API\n",
    "import pandas as pd                  #manipulates data \n",
    "from dotenv import load_dotenv       #storing sensitive information in environment variables\n",
    "\n",
    "import base64                        #encoding credentials for API authentification\n",
    "import os                            #retrieving sensitive information from environment variables"
   ]
  },
  {
   "cell_type": "markdown",
   "metadata": {},
   "source": [
    "The .env file with the access credentials is retrieved:  \n",
    "* Note that this step is taken because a .env file was previously created to store sensitive information. In this case, my own *client_id* and *client_secret*."
   ]
  },
  {
   "cell_type": "code",
   "execution_count": 3,
   "metadata": {},
   "outputs": [
    {
     "data": {
      "text/plain": [
       "True"
      ]
     },
     "execution_count": 3,
     "metadata": {},
     "output_type": "execute_result"
    }
   ],
   "source": [
    "load_dotenv(\".env\")"
   ]
  },
  {
   "cell_type": "markdown",
   "metadata": {},
   "source": [
    "This way we can get the acces tokens for the API through a Python function:\n",
    "\n",
    "* *client_id* and *client_secret* need to be obtained directly from the [Spotify developer site](https://developer.spotify.com/documentation/web-api)."
   ]
  },
  {
   "cell_type": "code",
   "execution_count": 4,
   "metadata": {},
   "outputs": [],
   "source": [
    "def get_spotify_access_token():\n",
    "\n",
    "    client_id = os.getenv(\"SPOTIFY_CLIENT_ID\") \n",
    "    client_secret = os.getenv(\"SPOTIFY_CLIENT_SECRET\")      \n",
    "    auth_url = \"https://accounts.spotify.com/api/token\"\n",
    "    credentials_b64 = base64.b64encode(f\"{client_id}:{client_secret}\".encode()).decode()\n",
    "\n",
    "    headers = {\"Authorization\": f\"Basic {credentials_b64}\"}\n",
    "    payload = {\"grant_type\": \"client_credentials\"}\n",
    "\n",
    "    response = requests.post(auth_url, headers=headers, data=payload)\n",
    "    response.raise_for_status()\n",
    "    access_token = response.json()['access_token']\n",
    "    return access_token"
   ]
  },
  {
   "cell_type": "markdown",
   "metadata": {},
   "source": [
    "Functions for retrieving the artist ID, artist name, and its related artists :"
   ]
  },
  {
   "cell_type": "code",
   "execution_count": 5,
   "metadata": {},
   "outputs": [],
   "source": [
    "def get_artist_id(artist_name, access_token):\n",
    "\n",
    "    search_url = \"https://api.spotify.com/v1/search\"\n",
    "    headers = {\"Authorization\": f\"Bearer {access_token}\"}\n",
    "    params = {\"q\": artist_name, \"type\": \"artist\", \"limit\": 1}\n",
    "    response = requests.get(search_url, headers=headers, params=params)\n",
    "    response.raise_for_status()\n",
    "    data = response.json()\n",
    "    return data['artists']['items'][0]['id'] if data['artists']['items'] else None\n",
    "\n",
    "def get_related_artists(artist_id, access_token):\n",
    "\n",
    "    related_artists_url = f\"https://api.spotify.com/v1/artists/{artist_id}/related-artists\"\n",
    "    headers = {\"Authorization\": f\"Bearer {access_token}\"}\n",
    "    response = requests.get(related_artists_url, headers=headers)\n",
    "    response.raise_for_status()\n",
    "    data = response.json()\n",
    "    return data['artists']"
   ]
  },
  {
   "cell_type": "markdown",
   "metadata": {},
   "source": [
    "The function to get the suggested artists' top tracks needs to change a bit. In this case, we would need to iterate through the *'tracks'* list to access some features of the songs like its names, popularity indexes and its URLs. This is done so that we can identify each song by name, sort them by popularity and provide a direct link to each song."
   ]
  },
  {
   "cell_type": "code",
   "execution_count": 6,
   "metadata": {},
   "outputs": [],
   "source": [
    "def get_top_tracks_for_artists(artist_ids, access_token, market):\n",
    "    top_tracks = []\n",
    "\n",
    "    for artist_id in artist_ids:\n",
    "        top_tracks_url = f\"https://api.spotify.com/v1/artists/{artist_id}/top-tracks?market={market}\"\n",
    "        headers = {\"Authorization\": f\"Bearer {access_token}\"}\n",
    "        response = requests.get(top_tracks_url, headers=headers)\n",
    "        response.raise_for_status()\n",
    "        data = response.json()\n",
    "\n",
    "        \n",
    "        for track in data['tracks']:\n",
    "            artist_name = data[\"tracks\"][0][\"artists\"][0][\"name\"]\n",
    "            top_tracks.append({\n",
    "                \"artist_name\": artist_name,\n",
    "                \"track_name\": track['name'],\n",
    "                \"popularity\": track['popularity'],\n",
    "                \"track_url\": track['external_urls']['spotify']\n",
    "            })\n",
    "    return top_tracks"
   ]
  },
  {
   "cell_type": "markdown",
   "metadata": {},
   "source": [
    "Finally, the functions above are called to make the calls to the API, retrieve the data, and store it into two dataframes: *top_tracks_df* and *related_artists_df*."
   ]
  },
  {
   "cell_type": "code",
   "execution_count": 7,
   "metadata": {},
   "outputs": [],
   "source": [
    "def main(artist_name, market):\n",
    "    access_token = get_spotify_access_token()\n",
    "    artist_id = get_artist_id(artist_name, access_token)\n",
    "    if artist_id:\n",
    "        related_artists = get_related_artists(artist_id, access_token)\n",
    "        artist_ids = [artist['id'] for artist in related_artists]\n",
    "        top_tracks = get_top_tracks_for_artists(artist_ids, access_token, market)\n",
    "\n",
    "        top_tracks_df = pd.DataFrame(top_tracks)\n",
    "        related_artists_df = pd.DataFrame(related_artists)\n",
    "\n",
    "        return top_tracks_df, related_artists_df\n",
    "\n",
    "    else:\n",
    "        return pd.DataFrame(), pd.DataFrame()"
   ]
  },
  {
   "cell_type": "markdown",
   "metadata": {},
   "source": [
    "This is what the raw *top_tracks* dataframe would look like:"
   ]
  },
  {
   "cell_type": "code",
   "execution_count": 8,
   "metadata": {},
   "outputs": [
    {
     "data": {
      "text/html": [
       "<div>\n",
       "<style scoped>\n",
       "    .dataframe tbody tr th:only-of-type {\n",
       "        vertical-align: middle;\n",
       "    }\n",
       "\n",
       "    .dataframe tbody tr th {\n",
       "        vertical-align: top;\n",
       "    }\n",
       "\n",
       "    .dataframe thead th {\n",
       "        text-align: right;\n",
       "    }\n",
       "</style>\n",
       "<table border=\"1\" class=\"dataframe\">\n",
       "  <thead>\n",
       "    <tr style=\"text-align: right;\">\n",
       "      <th></th>\n",
       "      <th>artist_name</th>\n",
       "      <th>track_name</th>\n",
       "      <th>popularity</th>\n",
       "      <th>track_url</th>\n",
       "    </tr>\n",
       "  </thead>\n",
       "  <tbody>\n",
       "    <tr>\n",
       "      <th>0</th>\n",
       "      <td>Ozzy Osbourne</td>\n",
       "      <td>Crazy Train</td>\n",
       "      <td>81</td>\n",
       "      <td>https://open.spotify.com/track/7ACxUo21jtTHzy7...</td>\n",
       "    </tr>\n",
       "    <tr>\n",
       "      <th>1</th>\n",
       "      <td>Ozzy Osbourne</td>\n",
       "      <td>No More Tears</td>\n",
       "      <td>76</td>\n",
       "      <td>https://open.spotify.com/track/7w6PJe5KBPyvuRY...</td>\n",
       "    </tr>\n",
       "    <tr>\n",
       "      <th>2</th>\n",
       "      <td>Ozzy Osbourne</td>\n",
       "      <td>Mama, I'm Coming Home</td>\n",
       "      <td>70</td>\n",
       "      <td>https://open.spotify.com/track/0S3gpZzlT9Hb7CC...</td>\n",
       "    </tr>\n",
       "    <tr>\n",
       "      <th>3</th>\n",
       "      <td>Ozzy Osbourne</td>\n",
       "      <td>I Don't Wanna Stop</td>\n",
       "      <td>69</td>\n",
       "      <td>https://open.spotify.com/track/5axOkQnmQmwtjr4...</td>\n",
       "    </tr>\n",
       "    <tr>\n",
       "      <th>4</th>\n",
       "      <td>Ozzy Osbourne</td>\n",
       "      <td>Bark at the Moon</td>\n",
       "      <td>67</td>\n",
       "      <td>https://open.spotify.com/track/2E7W1X4maFFcjHr...</td>\n",
       "    </tr>\n",
       "    <tr>\n",
       "      <th>5</th>\n",
       "      <td>Ozzy Osbourne</td>\n",
       "      <td>Mr. Crowley</td>\n",
       "      <td>67</td>\n",
       "      <td>https://open.spotify.com/track/2ov8L95QD25TLpZ...</td>\n",
       "    </tr>\n",
       "    <tr>\n",
       "      <th>6</th>\n",
       "      <td>Ozzy Osbourne</td>\n",
       "      <td>Shot in the Dark</td>\n",
       "      <td>66</td>\n",
       "      <td>https://open.spotify.com/track/31dqpLUModJWNbx...</td>\n",
       "    </tr>\n",
       "    <tr>\n",
       "      <th>7</th>\n",
       "      <td>Ozzy Osbourne</td>\n",
       "      <td>Dreamer</td>\n",
       "      <td>65</td>\n",
       "      <td>https://open.spotify.com/track/78PKCefXwDLbl4F...</td>\n",
       "    </tr>\n",
       "    <tr>\n",
       "      <th>8</th>\n",
       "      <td>Ozzy Osbourne</td>\n",
       "      <td>Close My Eyes Forever</td>\n",
       "      <td>63</td>\n",
       "      <td>https://open.spotify.com/track/43thLwzSasUUZEY...</td>\n",
       "    </tr>\n",
       "    <tr>\n",
       "      <th>9</th>\n",
       "      <td>Ozzy Osbourne</td>\n",
       "      <td>Hellraiser</td>\n",
       "      <td>63</td>\n",
       "      <td>https://open.spotify.com/track/4nvYDy427VvA1Tc...</td>\n",
       "    </tr>\n",
       "  </tbody>\n",
       "</table>\n",
       "</div>"
      ],
      "text/plain": [
       "     artist_name             track_name  popularity  \\\n",
       "0  Ozzy Osbourne            Crazy Train          81   \n",
       "1  Ozzy Osbourne          No More Tears          76   \n",
       "2  Ozzy Osbourne  Mama, I'm Coming Home          70   \n",
       "3  Ozzy Osbourne     I Don't Wanna Stop          69   \n",
       "4  Ozzy Osbourne       Bark at the Moon          67   \n",
       "5  Ozzy Osbourne            Mr. Crowley          67   \n",
       "6  Ozzy Osbourne       Shot in the Dark          66   \n",
       "7  Ozzy Osbourne                Dreamer          65   \n",
       "8  Ozzy Osbourne  Close My Eyes Forever          63   \n",
       "9  Ozzy Osbourne             Hellraiser          63   \n",
       "\n",
       "                                           track_url  \n",
       "0  https://open.spotify.com/track/7ACxUo21jtTHzy7...  \n",
       "1  https://open.spotify.com/track/7w6PJe5KBPyvuRY...  \n",
       "2  https://open.spotify.com/track/0S3gpZzlT9Hb7CC...  \n",
       "3  https://open.spotify.com/track/5axOkQnmQmwtjr4...  \n",
       "4  https://open.spotify.com/track/2E7W1X4maFFcjHr...  \n",
       "5  https://open.spotify.com/track/2ov8L95QD25TLpZ...  \n",
       "6  https://open.spotify.com/track/31dqpLUModJWNbx...  \n",
       "7  https://open.spotify.com/track/78PKCefXwDLbl4F...  \n",
       "8  https://open.spotify.com/track/43thLwzSasUUZEY...  \n",
       "9  https://open.spotify.com/track/4nvYDy427VvA1Tc...  "
      ]
     },
     "execution_count": 8,
     "metadata": {},
     "output_type": "execute_result"
    }
   ],
   "source": [
    "top_tracks_df, related_artists_df = main(\"Black Sabbath\", \"US\")\n",
    "\n",
    "top_tracks_df.head(10)"
   ]
  },
  {
   "cell_type": "markdown",
   "metadata": {},
   "source": [
    "Now, *related_artists*:"
   ]
  },
  {
   "cell_type": "code",
   "execution_count": 13,
   "metadata": {},
   "outputs": [
    {
     "data": {
      "text/html": [
       "<div>\n",
       "<style scoped>\n",
       "    .dataframe tbody tr th:only-of-type {\n",
       "        vertical-align: middle;\n",
       "    }\n",
       "\n",
       "    .dataframe tbody tr th {\n",
       "        vertical-align: top;\n",
       "    }\n",
       "\n",
       "    .dataframe thead th {\n",
       "        text-align: right;\n",
       "    }\n",
       "</style>\n",
       "<table border=\"1\" class=\"dataframe\">\n",
       "  <thead>\n",
       "    <tr style=\"text-align: right;\">\n",
       "      <th></th>\n",
       "      <th>external_urls</th>\n",
       "      <th>followers</th>\n",
       "      <th>genres</th>\n",
       "      <th>href</th>\n",
       "      <th>id</th>\n",
       "      <th>images</th>\n",
       "      <th>name</th>\n",
       "      <th>popularity</th>\n",
       "      <th>type</th>\n",
       "      <th>uri</th>\n",
       "    </tr>\n",
       "  </thead>\n",
       "  <tbody>\n",
       "    <tr>\n",
       "      <th>0</th>\n",
       "      <td>{'spotify': 'https://open.spotify.com/artist/6...</td>\n",
       "      <td>{'href': None, 'total': 5242504}</td>\n",
       "      <td>[album rock, alternative metal, birmingham met...</td>\n",
       "      <td>https://api.spotify.com/v1/artists/6ZLTlhejhnd...</td>\n",
       "      <td>6ZLTlhejhndI4Rh53vYhrY</td>\n",
       "      <td>[{'height': 640, 'url': 'https://i.scdn.co/ima...</td>\n",
       "      <td>Ozzy Osbourne</td>\n",
       "      <td>71</td>\n",
       "      <td>artist</td>\n",
       "      <td>spotify:artist:6ZLTlhejhndI4Rh53vYhrY</td>\n",
       "    </tr>\n",
       "    <tr>\n",
       "      <th>1</th>\n",
       "      <td>{'spotify': 'https://open.spotify.com/artist/2...</td>\n",
       "      <td>{'href': None, 'total': 3929366}</td>\n",
       "      <td>[album rock, alternative metal, birmingham met...</td>\n",
       "      <td>https://api.spotify.com/v1/artists/2tRsMl4eGxw...</td>\n",
       "      <td>2tRsMl4eGxwoNabM08Dm4I</td>\n",
       "      <td>[{'height': 640, 'url': 'https://i.scdn.co/ima...</td>\n",
       "      <td>Judas Priest</td>\n",
       "      <td>66</td>\n",
       "      <td>artist</td>\n",
       "      <td>spotify:artist:2tRsMl4eGxwoNabM08Dm4I</td>\n",
       "    </tr>\n",
       "    <tr>\n",
       "      <th>2</th>\n",
       "      <td>{'spotify': 'https://open.spotify.com/artist/1...</td>\n",
       "      <td>{'href': None, 'total': 3891868}</td>\n",
       "      <td>[alternative metal, hard rock, metal, rock, sp...</td>\n",
       "      <td>https://api.spotify.com/v1/artists/1DFr97A9Hnb...</td>\n",
       "      <td>1DFr97A9HnbV3SKTJFu62M</td>\n",
       "      <td>[{'height': 640, 'url': 'https://i.scdn.co/ima...</td>\n",
       "      <td>Motörhead</td>\n",
       "      <td>64</td>\n",
       "      <td>artist</td>\n",
       "      <td>spotify:artist:1DFr97A9HnbV3SKTJFu62M</td>\n",
       "    </tr>\n",
       "    <tr>\n",
       "      <th>3</th>\n",
       "      <td>{'spotify': 'https://open.spotify.com/artist/4...</td>\n",
       "      <td>{'href': None, 'total': 2520558}</td>\n",
       "      <td>[album rock, alternative metal, glam metal, ha...</td>\n",
       "      <td>https://api.spotify.com/v1/artists/4CYeVo5iZbt...</td>\n",
       "      <td>4CYeVo5iZbtYGBN4Isc3n6</td>\n",
       "      <td>[{'height': 640, 'url': 'https://i.scdn.co/ima...</td>\n",
       "      <td>Dio</td>\n",
       "      <td>60</td>\n",
       "      <td>artist</td>\n",
       "      <td>spotify:artist:4CYeVo5iZbtYGBN4Isc3n6</td>\n",
       "    </tr>\n",
       "  </tbody>\n",
       "</table>\n",
       "</div>"
      ],
      "text/plain": [
       "                                       external_urls  \\\n",
       "0  {'spotify': 'https://open.spotify.com/artist/6...   \n",
       "1  {'spotify': 'https://open.spotify.com/artist/2...   \n",
       "2  {'spotify': 'https://open.spotify.com/artist/1...   \n",
       "3  {'spotify': 'https://open.spotify.com/artist/4...   \n",
       "\n",
       "                          followers  \\\n",
       "0  {'href': None, 'total': 5242504}   \n",
       "1  {'href': None, 'total': 3929366}   \n",
       "2  {'href': None, 'total': 3891868}   \n",
       "3  {'href': None, 'total': 2520558}   \n",
       "\n",
       "                                              genres  \\\n",
       "0  [album rock, alternative metal, birmingham met...   \n",
       "1  [album rock, alternative metal, birmingham met...   \n",
       "2  [alternative metal, hard rock, metal, rock, sp...   \n",
       "3  [album rock, alternative metal, glam metal, ha...   \n",
       "\n",
       "                                                href                      id  \\\n",
       "0  https://api.spotify.com/v1/artists/6ZLTlhejhnd...  6ZLTlhejhndI4Rh53vYhrY   \n",
       "1  https://api.spotify.com/v1/artists/2tRsMl4eGxw...  2tRsMl4eGxwoNabM08Dm4I   \n",
       "2  https://api.spotify.com/v1/artists/1DFr97A9Hnb...  1DFr97A9HnbV3SKTJFu62M   \n",
       "3  https://api.spotify.com/v1/artists/4CYeVo5iZbt...  4CYeVo5iZbtYGBN4Isc3n6   \n",
       "\n",
       "                                              images           name  \\\n",
       "0  [{'height': 640, 'url': 'https://i.scdn.co/ima...  Ozzy Osbourne   \n",
       "1  [{'height': 640, 'url': 'https://i.scdn.co/ima...   Judas Priest   \n",
       "2  [{'height': 640, 'url': 'https://i.scdn.co/ima...      Motörhead   \n",
       "3  [{'height': 640, 'url': 'https://i.scdn.co/ima...            Dio   \n",
       "\n",
       "   popularity    type                                    uri  \n",
       "0          71  artist  spotify:artist:6ZLTlhejhndI4Rh53vYhrY  \n",
       "1          66  artist  spotify:artist:2tRsMl4eGxwoNabM08Dm4I  \n",
       "2          64  artist  spotify:artist:1DFr97A9HnbV3SKTJFu62M  \n",
       "3          60  artist  spotify:artist:4CYeVo5iZbtYGBN4Isc3n6  "
      ]
     },
     "execution_count": 13,
     "metadata": {},
     "output_type": "execute_result"
    }
   ],
   "source": [
    "related_artists_df.head(4)"
   ]
  },
  {
   "cell_type": "markdown",
   "metadata": {},
   "source": [
    "## Next Steps\n",
    "\n",
    "Some data cleaning and wrangling will be necessary to show more diversity in terms of the artists we get recommended. This can be tackled in the R part of the code.\n",
    "\n",
    "This project continues on [Shiny App: Song Suggester, part II: Building the app in R](https://github.com/zefrios/RShiny/blob/ec5b4dd09eafbb679ff45a8c5b513464d564556b/Spotify_ArtistSuggestionsApp/Notebook_ShinyApp.ipynb)"
   ]
  },
  {
   "cell_type": "markdown",
   "metadata": {},
   "source": [
    "  \n",
    "\n",
    "\n",
    "***\n"
   ]
  }
 ],
 "metadata": {
  "kernelspec": {
   "display_name": ".venv",
   "language": "python",
   "name": "python3"
  },
  "language_info": {
   "codemirror_mode": {
    "name": "ipython",
    "version": 3
   },
   "file_extension": ".py",
   "mimetype": "text/x-python",
   "name": "python",
   "nbconvert_exporter": "python",
   "pygments_lexer": "ipython3",
   "version": "3.12.1"
  }
 },
 "nbformat": 4,
 "nbformat_minor": 2
}
