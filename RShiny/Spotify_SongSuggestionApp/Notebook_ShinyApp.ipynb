{
 "cells": [
  {
   "cell_type": "markdown",
   "metadata": {},
   "source": [
    "  \n",
    "  \n",
    "  \n",
    "  \n",
    "\n",
    "\n",
    "# Shiny App: Song Suggester, part II: Building the app in R.\n",
    "\n",
    "***\n",
    "## About the Project\n",
    "\n",
    "This is the follow-up project for the [API calls code](https://github.com/zefrios/Python/blob/8d958c935980235939b70a5005aba2de9a547961/Spotify_APIcalls/SpotifyTokenRequest.ipynb) we did on Python.\n",
    "\n",
    "Now it is easier to work in R. There, the program will focus mostly on creating a UI and leveraging the dataframes from our previous Python code. The app allows users to enter an artist's name and select a geographical market, then uses Python to fetch related artists and their top tracks. Then, it processes the returned data to display the most popular tracks and a list of related artists in an interactive web interface.\n"
   ]
  },
  {
   "cell_type": "markdown",
   "metadata": {},
   "source": [
    "First, we declare the necessary libraries:"
   ]
  },
  {
   "cell_type": "code",
   "execution_count": null,
   "metadata": {
    "vscode": {
     "languageId": "r"
    }
   },
   "outputs": [],
   "source": [
    "library(shiny)\n",
    "library(reticulate)\n",
    "library(dplyr)\n",
    "library(DT)"
   ]
  },
  {
   "cell_type": "markdown",
   "metadata": {},
   "source": [
    "Secondly, the code from Python is called, the elements the we will find in the UI are created and set the elements' output commands for the incoming tables. For simplicity, 8 markets were added nto the list to compare if there were changes in the recommended songs between regions."
   ]
  },
  {
   "cell_type": "code",
   "execution_count": null,
   "metadata": {
    "vscode": {
     "languageId": "r"
    }
   },
   "outputs": [],
   "source": [
    "source_python(\"api_calls_Deploy.py\")\n",
    "\n",
    "ui <- fluidPage(\n",
    "  titlePanel(\"Spotify Related Artists and Tracks\"),\n",
    "  textInput(\"artistName\", \"Enter Artist Name:\"),\n",
    "  selectInput(\"marketSelect\", \"Select Market:\",\n",
    "              choices = c(\"AU\", \"CA\", \"US\", \"GB\", \"DE\", \"FR\", \"JP\", \"MX\"),  # Add more markets as needed\n",
    "              selected = \"\"),\n",
    "  actionButton(\"searchButton\", \"Search\"),\n",
    "  DTOutput(\"topTracksTable\"),\n",
    "  tableOutput(\"relatedArtistsTable\")\n",
    ")"
   ]
  },
  {
   "cell_type": "markdown",
   "metadata": {},
   "source": [
    "Finally, on the server function we make sure we are receiving the two dataframes output by out Python code and then we render the output tables."
   ]
  },
  {
   "cell_type": "code",
   "execution_count": null,
   "metadata": {
    "vscode": {
     "languageId": "r"
    }
   },
   "outputs": [],
   "source": [
    "server <- function(input, output, session) {\n",
    "  \n",
    "  observeEvent(input$searchButton, {\n",
    "    req(input$artistName)\n",
    "    market <- input$marketSelect\n",
    "    \n",
    "    print(paste(\"Selected market:\", market))\n",
    "    \n",
    "    artist_data <- py$main(input$artistName, market)\n",
    "    \n",
    "    if (is.list(artist_data) && length(artist_data) >= 1) {\n",
    "      # Ensure the first element is a data frame\n",
    "      if (is.data.frame(artist_data[[1]])) {\n",
    "        top_tracks_df <- artist_data[[1]]\n",
    "        \n",
    "        print(str(top_tracks_df))\n",
    "        top_tracks_df$track_url <- sprintf('<a href=\"%s\" target=\"_blank\">Link</a>', top_tracks_df$track_url)\n",
    "        \n",
    "        # Apply dplyr filtering\n",
    "        processed_tracks_df <- top_tracks_df %>%\n",
    "          arrange(desc(popularity)) %>%\n",
    "          group_by(artist_name) %>%\n",
    "          slice_head(n = 1) %>%\n",
    "          ungroup()\n",
    "        \n",
    "        \n",
    "        print(str(processed_tracks_df))\n",
    "        print(head(processed_tracks_df))\n",
    "        \n",
    "        # Render the top tracks table\n",
    "        output$topTracksTable <- renderDT({\n",
    "          processed_tracks_df\n",
    "        }, escape = FALSE)\n",
    "      }\n",
    "      \n",
    "      # Check and render the related artists table\n",
    "      if (length(artist_data) >= 2 && is.data.frame(artist_data[[2]])) {\n",
    "        related_artists_df <- artist_data[[2]]\n",
    "        output$relatedArtistsTable <- renderTable({\n",
    "          related_artists_df\n",
    "        })\n",
    "      }\n",
    "    } else {\n",
    "      print(\"Error: Unexpected or no data returned from Python script.\")\n",
    "    }\n",
    "  })\n",
    "}"
   ]
  },
  {
   "cell_type": "markdown",
   "metadata": {},
   "source": [
    "We run the app with the following command:"
   ]
  },
  {
   "cell_type": "code",
   "execution_count": null,
   "metadata": {
    "vscode": {
     "languageId": "r"
    }
   },
   "outputs": [],
   "source": [
    "shinyApp(ui, server)"
   ]
  },
  {
   "cell_type": "markdown",
   "metadata": {},
   "source": [
    "The final result. Let's try to search for a band. Since I'm a fan, Black Sabbath sounds like a good option."
   ]
  },
  {
   "cell_type": "markdown",
   "metadata": {},
   "source": [
    "![Im](RShiny_SpotifyApp_2.png)"
   ]
  },
  {
   "cell_type": "markdown",
   "metadata": {},
   "source": [
    "Note that we can search for the same artist in different markets. Let's try Mexico this time. There is a slight difference on the most popular songs per artist between different markets. For example, in Australia the most popular song by Black Label Society is *Funeral Bell*, with a popularity index of 57. On the other hand, in Mexico, their most popular tune is *Stillborn* with a popularity index of 68."
   ]
  },
  {
   "cell_type": "markdown",
   "metadata": {},
   "source": [
    "![Image2](RShiny_SpotifyApp_3.png)"
   ]
  },
  {
   "cell_type": "markdown",
   "metadata": {},
   "source": [
    "It is also possible to listen to the recommended song via the web's interface. "
   ]
  },
  {
   "cell_type": "markdown",
   "metadata": {},
   "source": [
    "![Image3](RShiny_SpotifyApp_4.png)"
   ]
  },
  {
   "cell_type": "markdown",
   "metadata": {},
   "source": [
    "## Next steps\n",
    "\n",
    "Since it seems like our dataset could give us some interesting insights on how the dataframes from Spotify are organized and which parameters could give us a more detailed view on these popular songs, an EDA with Spotify's data will be conducted. The project can be found here: [Spotify API EDA: Black Sabbath](https://github.com/zefrios/SQL/blob/b0c18f1bb41104a08b457e7e347c9d08785f355c/Black%20Sabbath%20EDA/README.md)\n",
    "\n",
    "***"
   ]
  }
 ],
 "metadata": {
  "kernelspec": {
   "display_name": "R",
   "language": "R",
   "name": "ir"
  },
  "language_info": {
   "codemirror_mode": "r",
   "file_extension": ".r",
   "mimetype": "text/x-r-source",
   "name": "R",
   "pygments_lexer": "r",
   "version": "4.3.2"
  }
 },
 "nbformat": 4,
 "nbformat_minor": 2
}
